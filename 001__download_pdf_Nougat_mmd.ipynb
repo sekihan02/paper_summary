{
 "cells": [
  {
   "cell_type": "code",
   "execution_count": 1,
   "id": "c679e91a-4b3e-40e9-b745-bda667f65602",
   "metadata": {},
   "outputs": [
    {
     "name": "stdout",
     "output_type": "stream",
     "text": [
      "Requirement already satisfied: pip in /usr/local/lib/python3.10/dist-packages (23.2.1)\n",
      "\u001b[33mDEPRECATION: distro-info 1.1build1 has a non-standard version number. pip 23.3 will enforce this behaviour change. A possible replacement is to upgrade to a newer version of distro-info or contact the author to suggest that they release a version with a conforming version number. Discussion can be found at https://github.com/pypa/pip/issues/12063\u001b[0m\u001b[33m\n",
      "\u001b[0m\u001b[33mWARNING: Running pip as the 'root' user can result in broken permissions and conflicting behaviour with the system package manager. It is recommended to use a virtual environment instead: https://pip.pypa.io/warnings/venv\u001b[0m\u001b[33m\n",
      "\u001b[0m"
     ]
    }
   ],
   "source": [
    "!python3 -m pip install --upgrade pip"
   ]
  },
  {
   "cell_type": "code",
   "execution_count": 2,
   "id": "7ff39766-838b-41a6-8bd8-71b90e22419d",
   "metadata": {
    "scrolled": true,
    "tags": []
   },
   "outputs": [
    {
     "name": "stdout",
     "output_type": "stream",
     "text": [
      "Requirement already satisfied: nougat-ocr in /usr/local/lib/python3.10/dist-packages (0.1.12)\n",
      "Requirement already satisfied: transformers>=4.25.1 in /usr/local/lib/python3.10/dist-packages (from nougat-ocr) (4.28.1)\n",
      "Requirement already satisfied: timm==0.5.4 in /usr/local/lib/python3.10/dist-packages (from nougat-ocr) (0.5.4)\n",
      "Requirement already satisfied: orjson in /usr/local/lib/python3.10/dist-packages (from nougat-ocr) (3.9.7)\n",
      "Requirement already satisfied: opencv-python-headless in /usr/local/lib/python3.10/dist-packages (from nougat-ocr) (4.8.0.74)\n",
      "Requirement already satisfied: datasets[vision] in /usr/local/lib/python3.10/dist-packages (from nougat-ocr) (2.13.1)\n",
      "Requirement already satisfied: lightning<2022,>=2.0.0 in /usr/local/lib/python3.10/dist-packages (from nougat-ocr) (2.0.9)\n",
      "Requirement already satisfied: nltk in /usr/local/lib/python3.10/dist-packages (from nougat-ocr) (3.8.1)\n",
      "Requirement already satisfied: python-Levenshtein in /usr/local/lib/python3.10/dist-packages (from nougat-ocr) (0.21.1)\n",
      "Requirement already satisfied: sentencepiece in /usr/local/lib/python3.10/dist-packages (from nougat-ocr) (0.1.99)\n",
      "Requirement already satisfied: sconf>=0.2.3 in /usr/local/lib/python3.10/dist-packages (from nougat-ocr) (0.2.5)\n",
      "Requirement already satisfied: albumentations>=1.0.0 in /usr/local/lib/python3.10/dist-packages (from nougat-ocr) (1.3.1)\n",
      "Requirement already satisfied: pypdf>=3.1.0 in /usr/local/lib/python3.10/dist-packages (from nougat-ocr) (3.16.1)\n",
      "Requirement already satisfied: pypdfium2 in /usr/local/lib/python3.10/dist-packages (from nougat-ocr) (4.20.0)\n",
      "Requirement already satisfied: torch>=1.4 in /usr/local/lib/python3.10/dist-packages (from timm==0.5.4->nougat-ocr) (2.0.1+cu118)\n",
      "Requirement already satisfied: torchvision in /usr/local/lib/python3.10/dist-packages (from timm==0.5.4->nougat-ocr) (0.15.2+cu118)\n",
      "Requirement already satisfied: numpy>=1.11.1 in /usr/local/lib/python3.10/dist-packages (from albumentations>=1.0.0->nougat-ocr) (1.23.5)\n",
      "Requirement already satisfied: scipy>=1.1.0 in /usr/local/lib/python3.10/dist-packages (from albumentations>=1.0.0->nougat-ocr) (1.10.1)\n",
      "Requirement already satisfied: scikit-image>=0.16.1 in /usr/local/lib/python3.10/dist-packages (from albumentations>=1.0.0->nougat-ocr) (0.21.0)\n",
      "Requirement already satisfied: PyYAML in /usr/local/lib/python3.10/dist-packages (from albumentations>=1.0.0->nougat-ocr) (6.0)\n",
      "Requirement already satisfied: qudida>=0.0.4 in /usr/local/lib/python3.10/dist-packages (from albumentations>=1.0.0->nougat-ocr) (0.0.4)\n",
      "Requirement already satisfied: Jinja2<5.0 in /usr/local/lib/python3.10/dist-packages (from lightning<2022,>=2.0.0->nougat-ocr) (3.1.2)\n",
      "Requirement already satisfied: arrow<3.0,>=1.2.0 in /usr/local/lib/python3.10/dist-packages (from lightning<2022,>=2.0.0->nougat-ocr) (1.2.3)\n",
      "Requirement already satisfied: backoff<4.0,>=2.2.1 in /usr/local/lib/python3.10/dist-packages (from lightning<2022,>=2.0.0->nougat-ocr) (2.2.1)\n",
      "Requirement already satisfied: beautifulsoup4<6.0,>=4.8.0 in /usr/local/lib/python3.10/dist-packages (from lightning<2022,>=2.0.0->nougat-ocr) (4.12.2)\n",
      "Requirement already satisfied: click<10.0 in /usr/local/lib/python3.10/dist-packages (from lightning<2022,>=2.0.0->nougat-ocr) (8.1.5)\n",
      "Requirement already satisfied: croniter<1.5.0,>=1.3.0 in /usr/local/lib/python3.10/dist-packages (from lightning<2022,>=2.0.0->nougat-ocr) (1.4.1)\n",
      "Requirement already satisfied: dateutils<2.0 in /usr/local/lib/python3.10/dist-packages (from lightning<2022,>=2.0.0->nougat-ocr) (0.6.12)\n",
      "Requirement already satisfied: deepdiff<8.0,>=5.7.0 in /usr/local/lib/python3.10/dist-packages (from lightning<2022,>=2.0.0->nougat-ocr) (6.5.0)\n",
      "Requirement already satisfied: fastapi<2.0,>=0.92.0 in /usr/local/lib/python3.10/dist-packages (from lightning<2022,>=2.0.0->nougat-ocr) (0.103.1)\n",
      "Requirement already satisfied: fsspec<2025.0,>=2022.5.0 in /usr/local/lib/python3.10/dist-packages (from lightning<2022,>=2.0.0->nougat-ocr) (2023.6.0)\n",
      "Requirement already satisfied: inquirer<5.0,>=2.10.0 in /usr/local/lib/python3.10/dist-packages (from lightning<2022,>=2.0.0->nougat-ocr) (3.1.3)\n",
      "Requirement already satisfied: lightning-cloud>=0.5.38 in /usr/local/lib/python3.10/dist-packages (from lightning<2022,>=2.0.0->nougat-ocr) (0.5.38)\n",
      "Requirement already satisfied: lightning-utilities<2.0,>=0.7.0 in /usr/local/lib/python3.10/dist-packages (from lightning<2022,>=2.0.0->nougat-ocr) (0.9.0)\n",
      "Requirement already satisfied: packaging in /usr/local/lib/python3.10/dist-packages (from lightning<2022,>=2.0.0->nougat-ocr) (23.1)\n",
      "Requirement already satisfied: psutil<7.0 in /usr/local/lib/python3.10/dist-packages (from lightning<2022,>=2.0.0->nougat-ocr) (5.9.5)\n",
      "Requirement already satisfied: pydantic<2.2.0,>=1.7.4 in /usr/local/lib/python3.10/dist-packages (from lightning<2022,>=2.0.0->nougat-ocr) (1.10.11)\n",
      "Requirement already satisfied: python-multipart<2.0,>=0.0.5 in /usr/local/lib/python3.10/dist-packages (from lightning<2022,>=2.0.0->nougat-ocr) (0.0.6)\n",
      "Requirement already satisfied: requests<4.0 in /usr/local/lib/python3.10/dist-packages (from lightning<2022,>=2.0.0->nougat-ocr) (2.28.1)\n",
      "Requirement already satisfied: rich<15.0,>=12.3.0 in /usr/local/lib/python3.10/dist-packages (from lightning<2022,>=2.0.0->nougat-ocr) (13.5.3)\n",
      "Requirement already satisfied: starlette in /usr/local/lib/python3.10/dist-packages (from lightning<2022,>=2.0.0->nougat-ocr) (0.27.0)\n",
      "Requirement already satisfied: starsessions<2.0,>=1.2.1 in /usr/local/lib/python3.10/dist-packages (from lightning<2022,>=2.0.0->nougat-ocr) (1.3.0)\n",
      "Requirement already satisfied: torchmetrics<3.0,>=0.7.0 in /usr/local/lib/python3.10/dist-packages (from lightning<2022,>=2.0.0->nougat-ocr) (1.0.1)\n",
      "Requirement already satisfied: tqdm<6.0,>=4.57.0 in /usr/local/lib/python3.10/dist-packages (from lightning<2022,>=2.0.0->nougat-ocr) (4.65.0)\n",
      "Requirement already satisfied: traitlets<7.0,>=5.3.0 in /usr/local/lib/python3.10/dist-packages (from lightning<2022,>=2.0.0->nougat-ocr) (5.9.0)\n",
      "Requirement already satisfied: typing-extensions<6.0,>=4.0.0 in /usr/local/lib/python3.10/dist-packages (from lightning<2022,>=2.0.0->nougat-ocr) (4.8.0)\n",
      "Requirement already satisfied: urllib3<4.0 in /usr/local/lib/python3.10/dist-packages (from lightning<2022,>=2.0.0->nougat-ocr) (1.26.13)\n",
      "Requirement already satisfied: uvicorn<2.0 in /usr/local/lib/python3.10/dist-packages (from lightning<2022,>=2.0.0->nougat-ocr) (0.23.2)\n",
      "Requirement already satisfied: websocket-client<3.0 in /usr/local/lib/python3.10/dist-packages (from lightning<2022,>=2.0.0->nougat-ocr) (1.6.1)\n",
      "Requirement already satisfied: websockets<13.0 in /usr/local/lib/python3.10/dist-packages (from lightning<2022,>=2.0.0->nougat-ocr) (11.0.3)\n",
      "Requirement already satisfied: pytorch-lightning in /usr/local/lib/python3.10/dist-packages (from lightning<2022,>=2.0.0->nougat-ocr) (2.0.5)\n",
      "Requirement already satisfied: ruamel.yaml in /usr/local/lib/python3.10/dist-packages (from sconf>=0.2.3->nougat-ocr) (0.17.32)\n",
      "Requirement already satisfied: munch in /usr/local/lib/python3.10/dist-packages (from sconf>=0.2.3->nougat-ocr) (4.0.0)\n",
      "Requirement already satisfied: filelock in /usr/local/lib/python3.10/dist-packages (from transformers>=4.25.1->nougat-ocr) (3.9.0)\n",
      "Requirement already satisfied: huggingface-hub<1.0,>=0.11.0 in /usr/local/lib/python3.10/dist-packages (from transformers>=4.25.1->nougat-ocr) (0.16.4)\n",
      "Requirement already satisfied: regex!=2019.12.17 in /usr/local/lib/python3.10/dist-packages (from transformers>=4.25.1->nougat-ocr) (2023.6.3)\n",
      "Requirement already satisfied: tokenizers!=0.11.3,<0.14,>=0.11.1 in /usr/local/lib/python3.10/dist-packages (from transformers>=4.25.1->nougat-ocr) (0.12.1)\n",
      "Requirement already satisfied: pyarrow>=8.0.0 in /usr/local/lib/python3.10/dist-packages (from datasets[vision]->nougat-ocr) (12.0.1)\n",
      "Requirement already satisfied: dill<0.3.7,>=0.3.0 in /usr/local/lib/python3.10/dist-packages (from datasets[vision]->nougat-ocr) (0.3.6)\n",
      "Requirement already satisfied: pandas in /usr/local/lib/python3.10/dist-packages (from datasets[vision]->nougat-ocr) (2.0.3)\n",
      "Requirement already satisfied: xxhash in /usr/local/lib/python3.10/dist-packages (from datasets[vision]->nougat-ocr) (3.2.0)\n",
      "Requirement already satisfied: multiprocess in /usr/local/lib/python3.10/dist-packages (from datasets[vision]->nougat-ocr) (0.70.14)\n",
      "Requirement already satisfied: aiohttp in /usr/local/lib/python3.10/dist-packages (from datasets[vision]->nougat-ocr) (3.8.4)\n",
      "Requirement already satisfied: Pillow>=6.2.1 in /usr/local/lib/python3.10/dist-packages (from datasets[vision]->nougat-ocr) (9.3.0)\n",
      "Requirement already satisfied: joblib in /usr/local/lib/python3.10/dist-packages (from nltk->nougat-ocr) (1.3.1)\n",
      "Requirement already satisfied: Levenshtein==0.21.1 in /usr/local/lib/python3.10/dist-packages (from python-Levenshtein->nougat-ocr) (0.21.1)\n",
      "Requirement already satisfied: rapidfuzz<4.0.0,>=2.3.0 in /usr/local/lib/python3.10/dist-packages (from Levenshtein==0.21.1->python-Levenshtein->nougat-ocr) (3.3.0)\n",
      "Requirement already satisfied: python-dateutil>=2.7.0 in /usr/local/lib/python3.10/dist-packages (from arrow<3.0,>=1.2.0->lightning<2022,>=2.0.0->nougat-ocr) (2.8.2)\n",
      "Requirement already satisfied: soupsieve>1.2 in /usr/local/lib/python3.10/dist-packages (from beautifulsoup4<6.0,>=4.8.0->lightning<2022,>=2.0.0->nougat-ocr) (2.4.1)\n",
      "Requirement already satisfied: pytz in /usr/local/lib/python3.10/dist-packages (from dateutils<2.0->lightning<2022,>=2.0.0->nougat-ocr) (2023.3)\n",
      "Requirement already satisfied: ordered-set<4.2.0,>=4.0.2 in /usr/local/lib/python3.10/dist-packages (from deepdiff<8.0,>=5.7.0->lightning<2022,>=2.0.0->nougat-ocr) (4.1.0)\n",
      "Requirement already satisfied: anyio<4.0.0,>=3.7.1 in /usr/local/lib/python3.10/dist-packages (from fastapi<2.0,>=0.92.0->lightning<2022,>=2.0.0->nougat-ocr) (3.7.1)\n",
      "Requirement already satisfied: attrs>=17.3.0 in /usr/local/lib/python3.10/dist-packages (from aiohttp->datasets[vision]->nougat-ocr) (23.1.0)\n",
      "Requirement already satisfied: charset-normalizer<4.0,>=2.0 in /usr/local/lib/python3.10/dist-packages (from aiohttp->datasets[vision]->nougat-ocr) (2.1.1)\n",
      "Requirement already satisfied: multidict<7.0,>=4.5 in /usr/local/lib/python3.10/dist-packages (from aiohttp->datasets[vision]->nougat-ocr) (6.0.4)\n",
      "Requirement already satisfied: async-timeout<5.0,>=4.0.0a3 in /usr/local/lib/python3.10/dist-packages (from aiohttp->datasets[vision]->nougat-ocr) (4.0.2)\n",
      "Requirement already satisfied: yarl<2.0,>=1.0 in /usr/local/lib/python3.10/dist-packages (from aiohttp->datasets[vision]->nougat-ocr) (1.9.2)\n",
      "Requirement already satisfied: frozenlist>=1.1.1 in /usr/local/lib/python3.10/dist-packages (from aiohttp->datasets[vision]->nougat-ocr) (1.4.0)\n",
      "Requirement already satisfied: aiosignal>=1.1.2 in /usr/local/lib/python3.10/dist-packages (from aiohttp->datasets[vision]->nougat-ocr) (1.3.1)\n",
      "Requirement already satisfied: blessed>=1.19.0 in /usr/local/lib/python3.10/dist-packages (from inquirer<5.0,>=2.10.0->lightning<2022,>=2.0.0->nougat-ocr) (1.20.0)\n",
      "Requirement already satisfied: python-editor>=1.0.4 in /usr/local/lib/python3.10/dist-packages (from inquirer<5.0,>=2.10.0->lightning<2022,>=2.0.0->nougat-ocr) (1.0.4)\n",
      "Requirement already satisfied: readchar>=3.0.6 in /usr/local/lib/python3.10/dist-packages (from inquirer<5.0,>=2.10.0->lightning<2022,>=2.0.0->nougat-ocr) (4.0.5)\n",
      "Requirement already satisfied: MarkupSafe>=2.0 in /usr/local/lib/python3.10/dist-packages (from Jinja2<5.0->lightning<2022,>=2.0.0->nougat-ocr) (2.1.2)\n",
      "Requirement already satisfied: pyjwt in /usr/lib/python3/dist-packages (from lightning-cloud>=0.5.38->lightning<2022,>=2.0.0->nougat-ocr) (2.3.0)\n",
      "Requirement already satisfied: six in /usr/lib/python3/dist-packages (from lightning-cloud>=0.5.38->lightning<2022,>=2.0.0->nougat-ocr) (1.16.0)\n",
      "Requirement already satisfied: scikit-learn>=0.19.1 in /usr/local/lib/python3.10/dist-packages (from qudida>=0.0.4->albumentations>=1.0.0->nougat-ocr) (1.3.0)\n",
      "Requirement already satisfied: idna<4,>=2.5 in /usr/local/lib/python3.10/dist-packages (from requests<4.0->lightning<2022,>=2.0.0->nougat-ocr) (3.4)\n",
      "Requirement already satisfied: certifi>=2017.4.17 in /usr/local/lib/python3.10/dist-packages (from requests<4.0->lightning<2022,>=2.0.0->nougat-ocr) (2022.12.7)\n",
      "Requirement already satisfied: markdown-it-py>=2.2.0 in /usr/local/lib/python3.10/dist-packages (from rich<15.0,>=12.3.0->lightning<2022,>=2.0.0->nougat-ocr) (3.0.0)\n",
      "Requirement already satisfied: pygments<3.0.0,>=2.13.0 in /usr/local/lib/python3.10/dist-packages (from rich<15.0,>=12.3.0->lightning<2022,>=2.0.0->nougat-ocr) (2.15.1)\n",
      "Requirement already satisfied: networkx>=2.8 in /usr/local/lib/python3.10/dist-packages (from scikit-image>=0.16.1->albumentations>=1.0.0->nougat-ocr) (3.0)\n",
      "Requirement already satisfied: imageio>=2.27 in /usr/local/lib/python3.10/dist-packages (from scikit-image>=0.16.1->albumentations>=1.0.0->nougat-ocr) (2.31.1)\n",
      "Requirement already satisfied: tifffile>=2022.8.12 in /usr/local/lib/python3.10/dist-packages (from scikit-image>=0.16.1->albumentations>=1.0.0->nougat-ocr) (2023.7.10)\n",
      "Requirement already satisfied: PyWavelets>=1.1.1 in /usr/local/lib/python3.10/dist-packages (from scikit-image>=0.16.1->albumentations>=1.0.0->nougat-ocr) (1.4.1)\n",
      "Requirement already satisfied: lazy_loader>=0.2 in /usr/local/lib/python3.10/dist-packages (from scikit-image>=0.16.1->albumentations>=1.0.0->nougat-ocr) (0.3)\n",
      "Requirement already satisfied: itsdangerous<3.0.0,>=2.0.1 in /usr/local/lib/python3.10/dist-packages (from starsessions<2.0,>=1.2.1->lightning<2022,>=2.0.0->nougat-ocr) (2.1.2)\n",
      "Requirement already satisfied: sympy in /usr/local/lib/python3.10/dist-packages (from torch>=1.4->timm==0.5.4->nougat-ocr) (1.11.1)\n",
      "Requirement already satisfied: triton==2.0.0 in /usr/local/lib/python3.10/dist-packages (from torch>=1.4->timm==0.5.4->nougat-ocr) (2.0.0)\n",
      "Requirement already satisfied: cmake in /usr/local/lib/python3.10/dist-packages (from triton==2.0.0->torch>=1.4->timm==0.5.4->nougat-ocr) (3.25.0)\n",
      "Requirement already satisfied: lit in /usr/local/lib/python3.10/dist-packages (from triton==2.0.0->torch>=1.4->timm==0.5.4->nougat-ocr) (15.0.7)\n",
      "Requirement already satisfied: h11>=0.8 in /usr/local/lib/python3.10/dist-packages (from uvicorn<2.0->lightning<2022,>=2.0.0->nougat-ocr) (0.14.0)\n",
      "Requirement already satisfied: tzdata>=2022.1 in /usr/local/lib/python3.10/dist-packages (from pandas->datasets[vision]->nougat-ocr) (2023.3)\n",
      "Requirement already satisfied: ruamel.yaml.clib>=0.2.7 in /usr/local/lib/python3.10/dist-packages (from ruamel.yaml->sconf>=0.2.3->nougat-ocr) (0.2.7)\n",
      "Requirement already satisfied: sniffio>=1.1 in /usr/local/lib/python3.10/dist-packages (from anyio<4.0.0,>=3.7.1->fastapi<2.0,>=0.92.0->lightning<2022,>=2.0.0->nougat-ocr) (1.3.0)\n",
      "Requirement already satisfied: exceptiongroup in /usr/local/lib/python3.10/dist-packages (from anyio<4.0.0,>=3.7.1->fastapi<2.0,>=0.92.0->lightning<2022,>=2.0.0->nougat-ocr) (1.1.2)\n",
      "Requirement already satisfied: wcwidth>=0.1.4 in /usr/local/lib/python3.10/dist-packages (from blessed>=1.19.0->inquirer<5.0,>=2.10.0->lightning<2022,>=2.0.0->nougat-ocr) (0.2.6)\n",
      "Requirement already satisfied: mdurl~=0.1 in /usr/local/lib/python3.10/dist-packages (from markdown-it-py>=2.2.0->rich<15.0,>=12.3.0->lightning<2022,>=2.0.0->nougat-ocr) (0.1.2)\n",
      "Requirement already satisfied: setuptools>=41.0 in /usr/lib/python3/dist-packages (from readchar>=3.0.6->inquirer<5.0,>=2.10.0->lightning<2022,>=2.0.0->nougat-ocr) (59.6.0)\n",
      "Requirement already satisfied: threadpoolctl>=2.0.0 in /usr/local/lib/python3.10/dist-packages (from scikit-learn>=0.19.1->qudida>=0.0.4->albumentations>=1.0.0->nougat-ocr) (3.2.0)\n",
      "Requirement already satisfied: mpmath>=0.19 in /usr/local/lib/python3.10/dist-packages (from sympy->torch>=1.4->timm==0.5.4->nougat-ocr) (1.2.1)\n",
      "\u001b[33mDEPRECATION: distro-info 1.1build1 has a non-standard version number. pip 23.3 will enforce this behaviour change. A possible replacement is to upgrade to a newer version of distro-info or contact the author to suggest that they release a version with a conforming version number. Discussion can be found at https://github.com/pypa/pip/issues/12063\u001b[0m\u001b[33m\n",
      "\u001b[0m\u001b[33mWARNING: Running pip as the 'root' user can result in broken permissions and conflicting behaviour with the system package manager. It is recommended to use a virtual environment instead: https://pip.pypa.io/warnings/venv\u001b[0m\u001b[33m\n",
      "\u001b[0m"
     ]
    }
   ],
   "source": [
    "!pip install nougat-ocr"
   ]
  },
  {
   "cell_type": "code",
   "execution_count": 3,
   "id": "5509ae77-eba7-4da2-96ea-122979b1b0fd",
   "metadata": {},
   "outputs": [
    {
     "name": "stdout",
     "output_type": "stream",
     "text": [
      "Requirement already satisfied: openai==0.27.8 in /usr/local/lib/python3.10/dist-packages (0.27.8)\n",
      "Requirement already satisfied: requests>=2.20 in /usr/local/lib/python3.10/dist-packages (from openai==0.27.8) (2.28.1)\n",
      "Requirement already satisfied: tqdm in /usr/local/lib/python3.10/dist-packages (from openai==0.27.8) (4.65.0)\n",
      "Requirement already satisfied: aiohttp in /usr/local/lib/python3.10/dist-packages (from openai==0.27.8) (3.8.4)\n",
      "Requirement already satisfied: charset-normalizer<3,>=2 in /usr/local/lib/python3.10/dist-packages (from requests>=2.20->openai==0.27.8) (2.1.1)\n",
      "Requirement already satisfied: idna<4,>=2.5 in /usr/local/lib/python3.10/dist-packages (from requests>=2.20->openai==0.27.8) (3.4)\n",
      "Requirement already satisfied: urllib3<1.27,>=1.21.1 in /usr/local/lib/python3.10/dist-packages (from requests>=2.20->openai==0.27.8) (1.26.13)\n",
      "Requirement already satisfied: certifi>=2017.4.17 in /usr/local/lib/python3.10/dist-packages (from requests>=2.20->openai==0.27.8) (2022.12.7)\n",
      "Requirement already satisfied: attrs>=17.3.0 in /usr/local/lib/python3.10/dist-packages (from aiohttp->openai==0.27.8) (23.1.0)\n",
      "Requirement already satisfied: multidict<7.0,>=4.5 in /usr/local/lib/python3.10/dist-packages (from aiohttp->openai==0.27.8) (6.0.4)\n",
      "Requirement already satisfied: async-timeout<5.0,>=4.0.0a3 in /usr/local/lib/python3.10/dist-packages (from aiohttp->openai==0.27.8) (4.0.2)\n",
      "Requirement already satisfied: yarl<2.0,>=1.0 in /usr/local/lib/python3.10/dist-packages (from aiohttp->openai==0.27.8) (1.9.2)\n",
      "Requirement already satisfied: frozenlist>=1.1.1 in /usr/local/lib/python3.10/dist-packages (from aiohttp->openai==0.27.8) (1.4.0)\n",
      "Requirement already satisfied: aiosignal>=1.1.2 in /usr/local/lib/python3.10/dist-packages (from aiohttp->openai==0.27.8) (1.3.1)\n",
      "\u001b[33mDEPRECATION: distro-info 1.1build1 has a non-standard version number. pip 23.3 will enforce this behaviour change. A possible replacement is to upgrade to a newer version of distro-info or contact the author to suggest that they release a version with a conforming version number. Discussion can be found at https://github.com/pypa/pip/issues/12063\u001b[0m\u001b[33m\n",
      "\u001b[0m\u001b[33mWARNING: Running pip as the 'root' user can result in broken permissions and conflicting behaviour with the system package manager. It is recommended to use a virtual environment instead: https://pip.pypa.io/warnings/venv\u001b[0m\u001b[33m\n",
      "\u001b[0m"
     ]
    }
   ],
   "source": [
    "!pip3 install openai==0.27.8"
   ]
  },
  {
   "cell_type": "code",
   "execution_count": 4,
   "id": "d43d652e-0e3d-4270-86a0-42d21321d5d2",
   "metadata": {},
   "outputs": [
    {
     "name": "stdout",
     "output_type": "stream",
     "text": [
      "Requirement already satisfied: python-dotenv in /usr/local/lib/python3.10/dist-packages (1.0.0)\n",
      "Requirement already satisfied: tiktoken in /usr/local/lib/python3.10/dist-packages (0.5.1)\n",
      "Requirement already satisfied: regex>=2022.1.18 in /usr/local/lib/python3.10/dist-packages (from tiktoken) (2023.6.3)\n",
      "Requirement already satisfied: requests>=2.26.0 in /usr/local/lib/python3.10/dist-packages (from tiktoken) (2.28.1)\n",
      "Requirement already satisfied: charset-normalizer<3,>=2 in /usr/local/lib/python3.10/dist-packages (from requests>=2.26.0->tiktoken) (2.1.1)\n",
      "Requirement already satisfied: idna<4,>=2.5 in /usr/local/lib/python3.10/dist-packages (from requests>=2.26.0->tiktoken) (3.4)\n",
      "Requirement already satisfied: urllib3<1.27,>=1.21.1 in /usr/local/lib/python3.10/dist-packages (from requests>=2.26.0->tiktoken) (1.26.13)\n",
      "Requirement already satisfied: certifi>=2017.4.17 in /usr/local/lib/python3.10/dist-packages (from requests>=2.26.0->tiktoken) (2022.12.7)\n",
      "\u001b[33mDEPRECATION: distro-info 1.1build1 has a non-standard version number. pip 23.3 will enforce this behaviour change. A possible replacement is to upgrade to a newer version of distro-info or contact the author to suggest that they release a version with a conforming version number. Discussion can be found at https://github.com/pypa/pip/issues/12063\u001b[0m\u001b[33m\n",
      "\u001b[0m\u001b[33mWARNING: Running pip as the 'root' user can result in broken permissions and conflicting behaviour with the system package manager. It is recommended to use a virtual environment instead: https://pip.pypa.io/warnings/venv\u001b[0m\u001b[33m\n",
      "\u001b[0m"
     ]
    }
   ],
   "source": [
    "!pip3 install python-dotenv tiktoken"
   ]
  },
  {
   "cell_type": "code",
   "execution_count": 5,
   "id": "9cf47b06-5c33-4695-9681-c55ccc75aba2",
   "metadata": {},
   "outputs": [
    {
     "name": "stdout",
     "output_type": "stream",
     "text": [
      "Requirement already satisfied: PyPDF2 in /usr/local/lib/python3.10/dist-packages (3.0.1)\n",
      "\u001b[33mDEPRECATION: distro-info 1.1build1 has a non-standard version number. pip 23.3 will enforce this behaviour change. A possible replacement is to upgrade to a newer version of distro-info or contact the author to suggest that they release a version with a conforming version number. Discussion can be found at https://github.com/pypa/pip/issues/12063\u001b[0m\u001b[33m\n",
      "\u001b[0m\u001b[33mWARNING: Running pip as the 'root' user can result in broken permissions and conflicting behaviour with the system package manager. It is recommended to use a virtual environment instead: https://pip.pypa.io/warnings/venv\u001b[0m\u001b[33m\n",
      "\u001b[0m"
     ]
    }
   ],
   "source": [
    "!pip install PyPDF2"
   ]
  },
  {
   "cell_type": "code",
   "execution_count": 6,
   "id": "711cbb9b-6efb-490a-b59d-87049d579823",
   "metadata": {},
   "outputs": [
    {
     "name": "stdout",
     "output_type": "stream",
     "text": [
      "Requirement already satisfied: pdf2image in /usr/local/lib/python3.10/dist-packages (1.16.3)\n",
      "Requirement already satisfied: pillow in /usr/local/lib/python3.10/dist-packages (from pdf2image) (9.3.0)\n",
      "\u001b[33mDEPRECATION: distro-info 1.1build1 has a non-standard version number. pip 23.3 will enforce this behaviour change. A possible replacement is to upgrade to a newer version of distro-info or contact the author to suggest that they release a version with a conforming version number. Discussion can be found at https://github.com/pypa/pip/issues/12063\u001b[0m\u001b[33m\n",
      "\u001b[0m\u001b[33mWARNING: Running pip as the 'root' user can result in broken permissions and conflicting behaviour with the system package manager. It is recommended to use a virtual environment instead: https://pip.pypa.io/warnings/venv\u001b[0m\u001b[33m\n",
      "\u001b[0m"
     ]
    }
   ],
   "source": [
    "!pip install pdf2image"
   ]
  },
  {
   "cell_type": "code",
   "execution_count": 7,
   "id": "b519ea3b-ed66-48de-8045-55b0293c8057",
   "metadata": {},
   "outputs": [
    {
     "name": "stdout",
     "output_type": "stream",
     "text": [
      "Reading package lists... Done\n",
      "Building dependency tree... Done\n",
      "Reading state information... Done\n",
      "The following NEW packages will be installed:\n",
      "  poppler-utils\n",
      "0 upgraded, 1 newly installed, 0 to remove and 3 not upgraded.\n",
      "Need to get 186 kB of archives.\n",
      "After this operation, 696 kB of additional disk space will be used.\n",
      "Ign:1 http://archive.ubuntu.com/ubuntu jammy-updates/main amd64 poppler-utils amd64 22.02.0-2ubuntu0.1\n",
      "Err:1 http://security.ubuntu.com/ubuntu jammy-updates/main amd64 poppler-utils amd64 22.02.0-2ubuntu0.1\n",
      "  404  Not Found [IP: 91.189.91.82 80]\n",
      "E: Failed to fetch http://security.ubuntu.com/ubuntu/pool/main/p/poppler/poppler-utils_22.02.0-2ubuntu0.1_amd64.deb  404  Not Found [IP: 91.189.91.82 80]\n",
      "E: Unable to fetch some archives, maybe run apt-get update or try with --fix-missing?\n"
     ]
    }
   ],
   "source": [
    "!sudo apt-get install poppler-utils"
   ]
  },
  {
   "cell_type": "code",
   "execution_count": 8,
   "id": "33ef9dfa-36e9-4a57-a63c-92a07e9122e2",
   "metadata": {},
   "outputs": [
    {
     "data": {
      "text/plain": [
       "'2309.11688v1'"
      ]
     },
     "execution_count": 8,
     "metadata": {},
     "output_type": "execute_result"
    }
   ],
   "source": [
    "import re\n",
    "\n",
    "# 取得したいURL\n",
    "url = \"http://arxiv.org/pdf/2309.11688v1\"\n",
    "identifier = re.search(r'/([^/]+)$', url).group(1)\n",
    "identifier"
   ]
  },
  {
   "cell_type": "code",
   "execution_count": 9,
   "id": "4e0cfa0c-8ba4-4e2b-8416-cf6c9fa8d2ca",
   "metadata": {},
   "outputs": [
    {
     "data": {
      "text/plain": [
       "'2309.11688v1.pdf'"
      ]
     },
     "execution_count": 9,
     "metadata": {},
     "output_type": "execute_result"
    }
   ],
   "source": [
    "nougat_path = identifier+\".pdf\"\n",
    "nougat_path"
   ]
  },
  {
   "cell_type": "code",
   "execution_count": 10,
   "id": "5bdc12e3-ef8e-4fbc-9258-99d39ff5687b",
   "metadata": {},
   "outputs": [],
   "source": [
    "import requests\n",
    "\n",
    "def download_pdf(link, save_path):\n",
    "    response = requests.get(link)\n",
    "    with open(save_path, 'wb') as file:\n",
    "        file.write(response.content)"
   ]
  },
  {
   "cell_type": "code",
   "execution_count": 11,
   "id": "ee4541b7-d839-4724-937d-14a525b56118",
   "metadata": {},
   "outputs": [
    {
     "name": "stdout",
     "output_type": "stream",
     "text": [
      "sample.pdf を削除しました。\n",
      "sample.mmd を削除しました。\n"
     ]
    }
   ],
   "source": [
    "import os\n",
    "\n",
    "files_to_remove = ['sample.pdf', 'sample.mmd']\n",
    "\n",
    "for file in files_to_remove:\n",
    "    if os.path.exists(file):\n",
    "        os.remove(file)\n",
    "        print(f\"{file} を削除しました。\")\n",
    "    else:\n",
    "        print(f\"{file} は存在しません。\")"
   ]
  },
  {
   "cell_type": "code",
   "execution_count": 12,
   "id": "688f1828-1dcd-42f1-a70c-18b3602f967f",
   "metadata": {},
   "outputs": [],
   "source": [
    "url = \"https://arxiv.org/pdf/\" + identifier\n",
    "\n",
    "# download_pdf(url, nougat_path)\n",
    "download_pdf(url, \"sample.pdf\")"
   ]
  },
  {
   "cell_type": "code",
   "execution_count": 13,
   "id": "f6e685c0-0a65-41c1-8ed4-f6871d44afa1",
   "metadata": {},
   "outputs": [],
   "source": [
    "# nougat_pdf_path = \"./\" + nougat_path"
   ]
  },
  {
   "cell_type": "code",
   "execution_count": 14,
   "id": "1554fdaa-1a56-4adb-995d-e39cc1bd832d",
   "metadata": {},
   "outputs": [
    {
     "name": "stdout",
     "output_type": "stream",
     "text": [
      "/usr/local/lib/python3.10/dist-packages/torch/functional.py:504: UserWarning: torch.meshgrid: in an upcoming release, it will be required to pass the indexing argument. (Triggered internally at ../aten/src/ATen/native/TensorShape.cpp:3483.)\n",
      "  return _VF.meshgrid(tensors, **kwargs)  # type: ignore[attr-defined]\n",
      "  0%|                                                     | 0/2 [00:00<?, ?it/s]/usr/local/lib/python3.10/dist-packages/torch/nn/modules/conv.py:459: UserWarning: Applied workaround for CuDNN issue, install nvrtc.so (Triggered internally at ../aten/src/ATen/native/cudnn/Conv_v8.cpp:80.)\n",
      "  return F.conv2d(input, weight, bias, self.stride,\n",
      "INFO: likely hallucinated title at the end of the page: ## Appendix C Appendix C Tool Input Prompt\n",
      "INFO:root:Processing file sample.pdf with 9 pages\n",
      "100%|█████████████████████████████████████████████| 2/2 [00:13<00:00,  6.63s/it]\n"
     ]
    }
   ],
   "source": [
    "!nougat ./sample.pdf --out ."
   ]
  },
  {
   "cell_type": "code",
   "execution_count": 15,
   "id": "11b93f68-650a-4107-b2b3-eddaf302a3d9",
   "metadata": {},
   "outputs": [],
   "source": [
    "# import subprocess\n",
    "\n",
    "# command = [\"nougat\", \"./2309.05557v2.pdf\", \"--out\", \".\"]\n",
    "# result = subprocess.run(command, capture_output=True, text=True)\n",
    "\n",
    "# # 結果を表示\n",
    "# print(result.stdout)"
   ]
  },
  {
   "cell_type": "code",
   "execution_count": 16,
   "id": "c66c2c1d-c9ea-4afd-ad6b-2037f87219b4",
   "metadata": {},
   "outputs": [],
   "source": [
    "# nougat_txt_path = identifier+\".mmd\"\n",
    "nougat_txt_path = \"sample\"+\".mmd\""
   ]
  },
  {
   "cell_type": "code",
   "execution_count": 17,
   "id": "4db9a39d-dc05-479b-a569-fd59fef9b1ed",
   "metadata": {},
   "outputs": [],
   "source": [
    "import openai"
   ]
  },
  {
   "cell_type": "code",
   "execution_count": 18,
   "id": "a0c5a73e-14c5-4fb9-a2df-b1cce8c579ed",
   "metadata": {},
   "outputs": [],
   "source": [
    "from dotenv import load_dotenv\n",
    "import os"
   ]
  },
  {
   "cell_type": "code",
   "execution_count": 19,
   "id": "c5d45778-6ebc-4eaf-917d-10cfb0bdc425",
   "metadata": {},
   "outputs": [
    {
     "data": {
      "text/plain": [
       "True"
      ]
     },
     "execution_count": 19,
     "metadata": {},
     "output_type": "execute_result"
    }
   ],
   "source": [
    "load_dotenv()"
   ]
  },
  {
   "cell_type": "code",
   "execution_count": 20,
   "id": "a6aefc00-08d2-4d95-b6ef-78c3f63d7459",
   "metadata": {},
   "outputs": [],
   "source": [
    "openai.api_key = os.getenv(\"OPENAI_API_KEY\")"
   ]
  },
  {
   "cell_type": "code",
   "execution_count": 21,
   "id": "4f8f6998-9201-4883-9d22-1df15d8b7a27",
   "metadata": {},
   "outputs": [],
   "source": [
    "# Step 1: Reading the uploaded text file\n",
    "\n",
    "with open(nougat_txt_path, \"r\", encoding=\"utf-8\") as file:\n",
    "    paper_content = file.read()"
   ]
  },
  {
   "cell_type": "code",
   "execution_count": 22,
   "id": "6745ffe9-ed09-44d5-b810-a921504588af",
   "metadata": {},
   "outputs": [],
   "source": [
    "def summary_abstract(prompt_text):\n",
    "    messages = [\n",
    "        # {\"role\": \"system\", \"content\": prompt},\n",
    "        {\"role\": \"user\", \"content\": f\"{prompt_text}\"}\n",
    "    ]\n",
    "    res = openai.ChatCompletion.create(\n",
    "        model=\"gpt-3.5-turbo-0613\",\n",
    "        messages=messages,\n",
    "        temperature=0.8\n",
    "    )\n",
    "\n",
    "    return res[\"choices\"][0][\"message\"][\"content\"]"
   ]
  },
  {
   "cell_type": "code",
   "execution_count": 23,
   "id": "64cabceb-d102-4e05-9402-a4433232cf4a",
   "metadata": {},
   "outputs": [],
   "source": [
    "import numpy as np\n",
    "# APIへ送信するワード数の上限を設定する\n",
    "# WC_MAX = int(4096 * 7 / 16)    # 1792\n",
    "WC_MAX = int(2048 * 8 / 16)\n",
    "\n",
    "\n",
    "\n",
    "# テキスト情報から単語途中で現れるハイフンと改行を削除する\n",
    "def clean_extracted_text(text) :\n",
    "    text = text.replace('-\\n', '')\n",
    "    text = re.sub(r'\\s+', ' ', text)\n",
    "    return text\n",
    "\n",
    "\n",
    "# APIへ送信するメッセージ（プロンプト）を作成する\n",
    "def create_prompt(text, total_num_req) :\n",
    "    return f\"\"\"英語の研究論文の一部を日本語で要約するタスクを行います。\n",
    "研究論文は全部で{total_num_req + 1}個に分割しています。\n",
    "以下のルールに従ってください。\n",
    "\n",
    "・リスト形式で出力する (先頭は - を使う)\n",
    "・簡潔に表現する\n",
    "・不明な単語や人名と思われるものは英語のまま表示する\n",
    "\n",
    "それでは開始します。\n",
    "\n",
    "英語の論文の一部:\n",
    "{text}\n",
    "\n",
    "日本語で要約した文章:\"\"\"\n",
    "\n",
    "# テキストをWC_MAXごとに分割する\n",
    "def split_text(text, wc_max) :\n",
    "    '''\n",
    "    :param text: english oneline sentence\n",
    "    :param wc_max:  word count max (if token max is 4097, it should be 2048)\n",
    "    :return: chunk[] \n",
    "    '''\n",
    "    words = text.split()  # Split the text into words\n",
    "    chunks = [' '.join(words[i :i + wc_max]) for i in range(0, len(words), wc_max)]\n",
    "    return chunks"
   ]
  },
  {
   "cell_type": "code",
   "execution_count": 24,
   "id": "88509452-a1bd-421e-a023-b440760e3284",
   "metadata": {},
   "outputs": [
    {
     "name": "stdout",
     "output_type": "stream",
     "text": [
      "input file has 4263 words, so API requests repeat 5.0 times.\n"
     ]
    }
   ],
   "source": [
    "# PDFファイルからテキスト情報を抽出して整形する\n",
    "extracted_text = paper_content\n",
    "clean_text = clean_extracted_text(extracted_text)\n",
    "\n",
    "# テキスト情報の概要を表示する。APIコール回数を表示する。\n",
    "print(f\"input file has {len(clean_text.split())} words, \"\n",
    "      f\"so API requests repeat {np.ceil(len(clean_text.split()) / WC_MAX)} times.\")\n",
    "\n",
    "# 分割処理（4,097トークン以下に抑えるための処理）\n",
    "splited_clean_text = split_text(clean_text, WC_MAX)\n"
   ]
  },
  {
   "cell_type": "code",
   "execution_count": 25,
   "id": "3ccc0633-2ffa-4d65-b0a9-1057e1c9be03",
   "metadata": {},
   "outputs": [
    {
     "name": "stdout",
     "output_type": "stream",
     "text": [
      "0 times request... (1024 words are included)\n",
      "- 大規模言語モデル（LLM）は、質問応答タスクで素晴らしいパフォーマンスを示していますが、モデルのトレーニングデータに含まれていない知識や現実世界との直接の観察や対話を通じてのみ獲得できる知識が必要な質問では、そのパフォーマンスが制限されます。\n",
      "- 既存の方法は、連続的に呼び出されるモジュールの使用によって推論タスクを分解していますが、深い推論タスクに対する能力が制限されています。\n",
      "- Recursion based extensible LLM（REBEL）という手法を導入し、動的な計画や前向き推論戦略などの自動推論技術を使用して、オープンワールドの深い推論タスクを扱います。\n",
      "- REBELは、LLMが再帰的な問題分解と外部ツールの利用を通じて推論できるようにします。REBELが使用するツールは、自然言語の説明で指定されます。\n",
      "- REBELの能力を示すために、複合的かつ対話的な環境で外部ツールの深く入れ子になった使用を必要とする問題のセットでREBELの機能を示します。\n",
      "\n",
      "- LLMを使用した推論タスクにアプローチする方法は、プロンプトエンジニアリング技術とファインチューニング技術、またはそれらの組み合わせに分類できます。\n",
      "- REBELアルゴリズムを導入し、質問を再帰的に解決する方法、質問をサブ質問に分割する方法、ツールを選択する方法、ツールを使用する方法などを説明します。\n",
      "- REBELシステムには、利用可能なツールのリストがあり、各質問に必要なツールが決定されます。\n",
      "1 times request... (1024 words are included)\n",
      "- アルゴリズム1では、質問にツールを使用せずに回答できるかどうかを確認します。\n",
      "- ツールピッカーでは、質問に対する回答を決定するために、ツールリストの中から最適なツールを選びます。\n",
      "- ツールの入力生成では、GPT-3を使用してツールの入力を生成します。ツールの説明と動的パラメータを提供します。\n",
      "- ツールの使用では、動的パラメータと静的パラメータを使用してAPIリクエストを作成し、回答を生成します。\n",
      "- REBELは、多様な知識ベースからの質問に一貫して回答できる能力を持つ最先端のシステムです。\n",
      "- REBELは、特定の検索クエリを使用して大量の構造化されていないデータを返す質問に対してもReActよりも優れた性能を示しました。\n",
      "\n",
      "これは、REBELアルゴリズムの概要と、実験結果の要約です。\n",
      "2 times request... (1024 words are included)\n",
      "- Compositional Celebritiesという5つのカテゴリで行われた実験では、REBELシステムがReActシステムよりも優れた結果を示しました。平均して、REBELは27.6%の向上を達成しました。\n",
      "- HotpotQAという質問応答データセットでは、ReActシステムがREBELシステムよりも13%高い正解率を示しました。\n",
      "- FEVERデータセットにおいては、REBELシステムがReActシステムよりもわずかに高い正解率を示しました。\n",
      "- REBELの効率性を評価するために、いくつかの削除テストを実施しました。これらのテストでは、GPT3がベースラインと比較して優れた結果を示しましたが、情報処理が必要な場合にはREBELがベースラインを上回りました。\n",
      "- REBELは複数のLLMクエリを使用するため、レイテンシや料金の上昇が発生する可能性があります。また、外部ツールの使用により、REBELの性能が向上する一方で、非構造化データの提供が低下する可能性もあります。\n",
      "- REBELは、多くの事実の収集が必要な質問や、外部データソースへの特定のクエリが有効な質問において、GPT3よりも優れた結果を示しました。ただし、シンプルな問題では過度に複雑になる傾向があり、正解率が低下する可能性があります。\n",
      "\n",
      "リスト形式の要約:\n",
      "- Compositional Celebritiesの実験では、REBELがReActよりも優れた結果を示した。\n",
      "- HotpotQAでは、ReActがREBELよりも正解率が高かった。\n",
      "- FEVERデータセットでは、REBELがReActよりもわずかに高い正解率を示した。\n",
      "- REBELは、情報処理が必要な場合にはベースラインを上回る結果を示したが、簡単な問題では正解率が低下する可能性がある。\n",
      "- REBELは、多くの事実の収集が必要な質問や外部データソースへの特定のクエリが有効な質問においてGPT3よりも優れた結果を示したが、シンプルな問題では複雑になりやすい。\n",
      "3 times request... (1024 words are included)\n",
      "- カテゴリ「Compositional Celebrities」において、異なるアルゴリズムの正答率を比較した結果を示している。\n",
      "- GPT3の正答率は16%、REBEL w/o toolsの正答率は39%、REBELの正答率は59%である。\n",
      "- 「Compositional Celebrities」の質問に対して回答するのにかかる平均時間を比較した結果を示している。\n",
      "- GPT3は0.94秒、REBEL w/o toolsは5.358秒、REBEL w/ toolsは9.76秒である。\n",
      "- 参考文献には、言語モデルに関する研究や応用についての論文がリストされている。\n",
      "4 times request... (167 words are included)\n",
      "- Q: 「空の色は何色ですか」の答えは、すでに記憶や知識ベースにありますか？はい\n",
      "- Q: 「ポートランドの気温は何度ですか」の答えは、すでに記憶や知識ベースにありますか？いいえ\n",
      "- メモリ: \\(Memory_{n}\\)\n",
      "- Q: \\(Question_{n}\\)の答えは、すでに記憶や知識ベースにありますか？ツール：\n",
      "- ツールID: 1\n",
      "- ツールの説明: 2つの都市間の運転距離と所要時間を見つける\n",
      "- ツールのパラメータ: origins（出発地の都市）、destinations（目的地の都市）\n",
      "- CASE:\n",
      "  - Q: 南アフリカとケニアの間の所要時間はどれくらいですか？\n",
      "  - THOUGHT:\n",
      "    - ツール1の入力としてQに対する正しいものは何ですか？\n",
      "    - A: (\"origins\": \"South Africa\", \"destinations\": \"Kenya\")\n",
      "- この図「flowchart.png」は、以下のURLから「png」形式で入手できます: http://arxiv.org/ps/2309.11688v1\n"
     ]
    }
   ],
   "source": [
    "# 分割したテキストごとに要約をリクエストする\n",
    "for i in range(len(splited_clean_text)) :\n",
    "    print(f\"{i} times request... ({len(splited_clean_text[i].split())} words are included)\")\n",
    "    # Setup prompt messages\n",
    "    messages = [\n",
    "        {\"role\" : \"system\",\n",
    "         \"content\" : \"あなたは、データ分析を専門に行う研究者です。あなたは、前後に問い合わせした内容を考慮して思慮深い回答をステップバイステップで行います。In general, try to **make plans** with as few steps as possible. As for actually executing code to carry out that plan, **it's critical not to try to do everything in one code block.** You should try something, print information about it, then continue from there in tiny, informed steps. You will never get it on the first try, and attempting it in one go will often lead to errors you cant see.You are capable of **any** task.\"},\n",
    "        {\"role\" : \"user\", \"content\" : create_prompt(splited_clean_text[i], len(splited_clean_text))}\n",
    "    ]\n",
    "\n",
    "    # APIにリクエストを送信する\n",
    "    # token数超過などの例外を返す可能性があるため、try/exceptを設定しておく。\n",
    "    try:\n",
    "        response = openai.ChatCompletion.create(\n",
    "            model=\"gpt-3.5-turbo-0613\",\n",
    "            messages=messages,\n",
    "            temperature=0.8,\n",
    "            max_tokens=800,  # 生成するトークンの最大数（入力と合算して4097以内に収める必要あり）\n",
    "            n=1,  # 生成するレスポンスの数\n",
    "            stop=None,  # 停止トークンの設定\\\n",
    "            top_p=1,  # トークン選択時の確率閾値\n",
    "        )\n",
    "        # 生成するレスポンス数は1という前提\n",
    "        print(response[\"choices\"][0][\"message\"][\"content\"])\n",
    "    except openai.error.InvalidRequestError as e:\n",
    "        print(\"OpenAI API error occurred: \" + str(e))"
   ]
  },
  {
   "cell_type": "code",
   "execution_count": null,
   "id": "d9df421e-b765-45b7-8a24-0d1ff154d3cb",
   "metadata": {},
   "outputs": [],
   "source": []
  },
  {
   "cell_type": "markdown",
   "id": "96b09425-1c0c-4a3e-a077-b38d92237334",
   "metadata": {},
   "source": [
    "画像の抽出"
   ]
  },
  {
   "cell_type": "code",
   "execution_count": 28,
   "id": "8340477a-86a8-4b6c-b143-6c1d2e5a081f",
   "metadata": {},
   "outputs": [
    {
     "name": "stdout",
     "output_type": "stream",
     "text": [
      "Requirement already satisfied: fitz in /usr/local/lib/python3.10/dist-packages (0.0.1.dev2)\n",
      "Requirement already satisfied: configobj in /usr/local/lib/python3.10/dist-packages (from fitz) (5.0.8)\n",
      "Requirement already satisfied: configparser in /usr/local/lib/python3.10/dist-packages (from fitz) (6.0.0)\n",
      "Requirement already satisfied: httplib2 in /usr/lib/python3/dist-packages (from fitz) (0.20.2)\n",
      "Requirement already satisfied: nibabel in /usr/local/lib/python3.10/dist-packages (from fitz) (5.1.0)\n",
      "Requirement already satisfied: nipype in /usr/local/lib/python3.10/dist-packages (from fitz) (1.8.6)\n",
      "Requirement already satisfied: numpy in /usr/local/lib/python3.10/dist-packages (from fitz) (1.23.5)\n",
      "Requirement already satisfied: pandas in /usr/local/lib/python3.10/dist-packages (from fitz) (2.0.3)\n",
      "Requirement already satisfied: pyxnat in /usr/local/lib/python3.10/dist-packages (from fitz) (1.6)\n",
      "Requirement already satisfied: scipy in /usr/local/lib/python3.10/dist-packages (from fitz) (1.10.1)\n",
      "Requirement already satisfied: six in /usr/lib/python3/dist-packages (from configobj->fitz) (1.16.0)\n",
      "Requirement already satisfied: pyparsing!=3.0.0,!=3.0.1,!=3.0.2,!=3.0.3,<4,>=2.4.2 in /usr/lib/python3/dist-packages (from httplib2->fitz) (2.4.7)\n",
      "Requirement already satisfied: packaging>=17 in /usr/local/lib/python3.10/dist-packages (from nibabel->fitz) (23.1)\n",
      "Requirement already satisfied: click>=6.6.0 in /usr/local/lib/python3.10/dist-packages (from nipype->fitz) (8.1.5)\n",
      "Requirement already satisfied: networkx>=2.0 in /usr/local/lib/python3.10/dist-packages (from nipype->fitz) (3.0)\n",
      "Requirement already satisfied: prov>=1.5.2 in /usr/local/lib/python3.10/dist-packages (from nipype->fitz) (2.0.0)\n",
      "Requirement already satisfied: pydot>=1.2.3 in /usr/local/lib/python3.10/dist-packages (from nipype->fitz) (1.4.2)\n",
      "Requirement already satisfied: python-dateutil>=2.2 in /usr/local/lib/python3.10/dist-packages (from nipype->fitz) (2.8.2)\n",
      "Requirement already satisfied: rdflib>=5.0.0 in /usr/local/lib/python3.10/dist-packages (from nipype->fitz) (7.0.0)\n",
      "Requirement already satisfied: simplejson>=3.8.0 in /usr/local/lib/python3.10/dist-packages (from nipype->fitz) (3.19.1)\n",
      "Requirement already satisfied: traits!=5.0,<6.4,>=4.6 in /usr/local/lib/python3.10/dist-packages (from nipype->fitz) (6.3.2)\n",
      "Requirement already satisfied: filelock>=3.0.0 in /usr/local/lib/python3.10/dist-packages (from nipype->fitz) (3.9.0)\n",
      "Requirement already satisfied: etelemetry>=0.2.0 in /usr/local/lib/python3.10/dist-packages (from nipype->fitz) (0.3.0)\n",
      "Requirement already satisfied: looseversion in /usr/local/lib/python3.10/dist-packages (from nipype->fitz) (1.3.0)\n",
      "Requirement already satisfied: pytz>=2020.1 in /usr/local/lib/python3.10/dist-packages (from pandas->fitz) (2023.3)\n",
      "Requirement already satisfied: tzdata>=2022.1 in /usr/local/lib/python3.10/dist-packages (from pandas->fitz) (2023.3)\n",
      "Requirement already satisfied: future>=0.16 in /usr/local/lib/python3.10/dist-packages (from pyxnat->fitz) (0.18.3)\n",
      "Requirement already satisfied: lxml>=4.3 in /usr/local/lib/python3.10/dist-packages (from pyxnat->fitz) (4.9.3)\n",
      "Requirement already satisfied: pathlib>=1.0 in /usr/local/lib/python3.10/dist-packages (from pyxnat->fitz) (1.0.1)\n",
      "Requirement already satisfied: requests>=2.20 in /usr/local/lib/python3.10/dist-packages (from pyxnat->fitz) (2.28.1)\n",
      "Requirement already satisfied: ci-info>=0.2 in /usr/local/lib/python3.10/dist-packages (from etelemetry>=0.2.0->nipype->fitz) (0.3.0)\n",
      "Requirement already satisfied: isodate<0.7.0,>=0.6.0 in /usr/local/lib/python3.10/dist-packages (from rdflib>=5.0.0->nipype->fitz) (0.6.1)\n",
      "Requirement already satisfied: charset-normalizer<3,>=2 in /usr/local/lib/python3.10/dist-packages (from requests>=2.20->pyxnat->fitz) (2.1.1)\n",
      "Requirement already satisfied: idna<4,>=2.5 in /usr/local/lib/python3.10/dist-packages (from requests>=2.20->pyxnat->fitz) (3.4)\n",
      "Requirement already satisfied: urllib3<1.27,>=1.21.1 in /usr/local/lib/python3.10/dist-packages (from requests>=2.20->pyxnat->fitz) (1.26.13)\n",
      "Requirement already satisfied: certifi>=2017.4.17 in /usr/local/lib/python3.10/dist-packages (from requests>=2.20->pyxnat->fitz) (2022.12.7)\n",
      "\u001b[33mDEPRECATION: distro-info 1.1build1 has a non-standard version number. pip 23.3 will enforce this behaviour change. A possible replacement is to upgrade to a newer version of distro-info or contact the author to suggest that they release a version with a conforming version number. Discussion can be found at https://github.com/pypa/pip/issues/12063\u001b[0m\u001b[33m\n",
      "\u001b[0m\u001b[33mWARNING: Running pip as the 'root' user can result in broken permissions and conflicting behaviour with the system package manager. It is recommended to use a virtual environment instead: https://pip.pypa.io/warnings/venv\u001b[0m\u001b[33m\n",
      "\u001b[0m"
     ]
    }
   ],
   "source": [
    "!pip install fitz"
   ]
  },
  {
   "cell_type": "code",
   "execution_count": 29,
   "id": "59161623-59f7-4f5a-9166-cbe7ea1c7397",
   "metadata": {},
   "outputs": [
    {
     "name": "stdout",
     "output_type": "stream",
     "text": [
      "Found existing installation: PyMuPDF 1.23.3\n",
      "Uninstalling PyMuPDF-1.23.3:\n",
      "  Successfully uninstalled PyMuPDF-1.23.3\n",
      "\u001b[33mWARNING: Running pip as the 'root' user can result in broken permissions and conflicting behaviour with the system package manager. It is recommended to use a virtual environment instead: https://pip.pypa.io/warnings/venv\u001b[0m\u001b[33m\n",
      "\u001b[0mCollecting PyMuPDF\n",
      "  Obtaining dependency information for PyMuPDF from https://files.pythonhosted.org/packages/1f/bc/3392a788fee48ac6869f4611df059bcac96374ff2b29bff814f90687e7bc/PyMuPDF-1.23.3-cp310-none-manylinux2014_x86_64.whl.metadata\n",
      "  Using cached PyMuPDF-1.23.3-cp310-none-manylinux2014_x86_64.whl.metadata (3.4 kB)\n",
      "Requirement already satisfied: PyMuPDFb==1.23.3 in /usr/local/lib/python3.10/dist-packages (from PyMuPDF) (1.23.3)\n",
      "Using cached PyMuPDF-1.23.3-cp310-none-manylinux2014_x86_64.whl (4.3 MB)\n",
      "\u001b[33mDEPRECATION: distro-info 1.1build1 has a non-standard version number. pip 23.3 will enforce this behaviour change. A possible replacement is to upgrade to a newer version of distro-info or contact the author to suggest that they release a version with a conforming version number. Discussion can be found at https://github.com/pypa/pip/issues/12063\u001b[0m\u001b[33m\n",
      "\u001b[0mInstalling collected packages: PyMuPDF\n",
      "Successfully installed PyMuPDF-1.23.3\n",
      "\u001b[33mWARNING: Running pip as the 'root' user can result in broken permissions and conflicting behaviour with the system package manager. It is recommended to use a virtual environment instead: https://pip.pypa.io/warnings/venv\u001b[0m\u001b[33m\n",
      "\u001b[0m"
     ]
    }
   ],
   "source": [
    "!pip uninstall -y PyMuPDF\n",
    "!pip install PyMuPDF"
   ]
  },
  {
   "cell_type": "code",
   "execution_count": 30,
   "id": "63862694-a1ee-4e6b-8860-24a32af764b4",
   "metadata": {},
   "outputs": [
    {
     "name": "stdout",
     "output_type": "stream",
     "text": [
      "Requirement already satisfied: fitz in /usr/local/lib/python3.10/dist-packages (0.0.1.dev2)\n",
      "Requirement already satisfied: configobj in /usr/local/lib/python3.10/dist-packages (from fitz) (5.0.8)\n",
      "Requirement already satisfied: configparser in /usr/local/lib/python3.10/dist-packages (from fitz) (6.0.0)\n",
      "Requirement already satisfied: httplib2 in /usr/lib/python3/dist-packages (from fitz) (0.20.2)\n",
      "Requirement already satisfied: nibabel in /usr/local/lib/python3.10/dist-packages (from fitz) (5.1.0)\n",
      "Requirement already satisfied: nipype in /usr/local/lib/python3.10/dist-packages (from fitz) (1.8.6)\n",
      "Requirement already satisfied: numpy in /usr/local/lib/python3.10/dist-packages (from fitz) (1.23.5)\n",
      "Requirement already satisfied: pandas in /usr/local/lib/python3.10/dist-packages (from fitz) (2.0.3)\n",
      "Requirement already satisfied: pyxnat in /usr/local/lib/python3.10/dist-packages (from fitz) (1.6)\n",
      "Requirement already satisfied: scipy in /usr/local/lib/python3.10/dist-packages (from fitz) (1.10.1)\n",
      "Requirement already satisfied: six in /usr/lib/python3/dist-packages (from configobj->fitz) (1.16.0)\n",
      "Requirement already satisfied: pyparsing!=3.0.0,!=3.0.1,!=3.0.2,!=3.0.3,<4,>=2.4.2 in /usr/lib/python3/dist-packages (from httplib2->fitz) (2.4.7)\n",
      "Requirement already satisfied: packaging>=17 in /usr/local/lib/python3.10/dist-packages (from nibabel->fitz) (23.1)\n",
      "Requirement already satisfied: click>=6.6.0 in /usr/local/lib/python3.10/dist-packages (from nipype->fitz) (8.1.5)\n",
      "Requirement already satisfied: networkx>=2.0 in /usr/local/lib/python3.10/dist-packages (from nipype->fitz) (3.0)\n",
      "Requirement already satisfied: prov>=1.5.2 in /usr/local/lib/python3.10/dist-packages (from nipype->fitz) (2.0.0)\n",
      "Requirement already satisfied: pydot>=1.2.3 in /usr/local/lib/python3.10/dist-packages (from nipype->fitz) (1.4.2)\n",
      "Requirement already satisfied: python-dateutil>=2.2 in /usr/local/lib/python3.10/dist-packages (from nipype->fitz) (2.8.2)\n",
      "Requirement already satisfied: rdflib>=5.0.0 in /usr/local/lib/python3.10/dist-packages (from nipype->fitz) (7.0.0)\n",
      "Requirement already satisfied: simplejson>=3.8.0 in /usr/local/lib/python3.10/dist-packages (from nipype->fitz) (3.19.1)\n",
      "Requirement already satisfied: traits!=5.0,<6.4,>=4.6 in /usr/local/lib/python3.10/dist-packages (from nipype->fitz) (6.3.2)\n",
      "Requirement already satisfied: filelock>=3.0.0 in /usr/local/lib/python3.10/dist-packages (from nipype->fitz) (3.9.0)\n",
      "Requirement already satisfied: etelemetry>=0.2.0 in /usr/local/lib/python3.10/dist-packages (from nipype->fitz) (0.3.0)\n",
      "Requirement already satisfied: looseversion in /usr/local/lib/python3.10/dist-packages (from nipype->fitz) (1.3.0)\n",
      "Requirement already satisfied: pytz>=2020.1 in /usr/local/lib/python3.10/dist-packages (from pandas->fitz) (2023.3)\n",
      "Requirement already satisfied: tzdata>=2022.1 in /usr/local/lib/python3.10/dist-packages (from pandas->fitz) (2023.3)\n",
      "Requirement already satisfied: future>=0.16 in /usr/local/lib/python3.10/dist-packages (from pyxnat->fitz) (0.18.3)\n",
      "Requirement already satisfied: lxml>=4.3 in /usr/local/lib/python3.10/dist-packages (from pyxnat->fitz) (4.9.3)\n",
      "Requirement already satisfied: pathlib>=1.0 in /usr/local/lib/python3.10/dist-packages (from pyxnat->fitz) (1.0.1)\n",
      "Requirement already satisfied: requests>=2.20 in /usr/local/lib/python3.10/dist-packages (from pyxnat->fitz) (2.28.1)\n",
      "Requirement already satisfied: ci-info>=0.2 in /usr/local/lib/python3.10/dist-packages (from etelemetry>=0.2.0->nipype->fitz) (0.3.0)\n",
      "Requirement already satisfied: isodate<0.7.0,>=0.6.0 in /usr/local/lib/python3.10/dist-packages (from rdflib>=5.0.0->nipype->fitz) (0.6.1)\n",
      "Requirement already satisfied: charset-normalizer<3,>=2 in /usr/local/lib/python3.10/dist-packages (from requests>=2.20->pyxnat->fitz) (2.1.1)\n",
      "Requirement already satisfied: idna<4,>=2.5 in /usr/local/lib/python3.10/dist-packages (from requests>=2.20->pyxnat->fitz) (3.4)\n",
      "Requirement already satisfied: urllib3<1.27,>=1.21.1 in /usr/local/lib/python3.10/dist-packages (from requests>=2.20->pyxnat->fitz) (1.26.13)\n",
      "Requirement already satisfied: certifi>=2017.4.17 in /usr/local/lib/python3.10/dist-packages (from requests>=2.20->pyxnat->fitz) (2022.12.7)\n",
      "\u001b[33mDEPRECATION: distro-info 1.1build1 has a non-standard version number. pip 23.3 will enforce this behaviour change. A possible replacement is to upgrade to a newer version of distro-info or contact the author to suggest that they release a version with a conforming version number. Discussion can be found at https://github.com/pypa/pip/issues/12063\u001b[0m\u001b[33m\n",
      "\u001b[0m\u001b[33mWARNING: Running pip as the 'root' user can result in broken permissions and conflicting behaviour with the system package manager. It is recommended to use a virtual environment instead: https://pip.pypa.io/warnings/venv\u001b[0m\u001b[33m\n",
      "\u001b[0m"
     ]
    }
   ],
   "source": [
    "!pip install fitz"
   ]
  },
  {
   "cell_type": "code",
   "execution_count": 31,
   "id": "d5a2bd87-d500-43dd-8a3e-f10ee1ef13ad",
   "metadata": {},
   "outputs": [],
   "source": [
    "import fitz  # PyMuPDF\n",
    "from PIL import Image\n",
    "\n",
    "# pdf_path = nougat_path\n",
    "pdf_path = \"sample.pdf\"\n",
    "doc = fitz.open(pdf_path)\n",
    "extracted_images = []\n",
    "\n",
    "for page in doc:\n",
    "    # ページからイメージを抽出\n",
    "    for img_index in page.get_images(full=True):\n",
    "        xref = img_index[0]\n",
    "        base_image = fitz.Pixmap(doc, xref)\n",
    "        pil_img = Image.frombytes(\"RGB\", [base_image.width, base_image.height], base_image.samples)\n",
    "        extracted_images.append(pil_img)\n",
    "\n",
    "# 最初の抽出された図を表示\n",
    "if extracted_images:\n",
    "    extracted_images[0].show()\n",
    "else:\n",
    "    \"このPDFには抽出可能な図が含まれていません。\"\n"
   ]
  },
  {
   "cell_type": "code",
   "execution_count": 32,
   "id": "62529ee0-b571-4c87-af19-1bbfc13b991e",
   "metadata": {},
   "outputs": [],
   "source": [
    "for img in extracted_images:\n",
    "    img.show()"
   ]
  },
  {
   "cell_type": "code",
   "execution_count": null,
   "id": "1ee433b7-9f2b-47d7-aa2f-060a4397e6ee",
   "metadata": {},
   "outputs": [],
   "source": []
  }
 ],
 "metadata": {
  "kernelspec": {
   "display_name": "Python 3 (ipykernel)",
   "language": "python",
   "name": "python3"
  },
  "language_info": {
   "codemirror_mode": {
    "name": "ipython",
    "version": 3
   },
   "file_extension": ".py",
   "mimetype": "text/x-python",
   "name": "python",
   "nbconvert_exporter": "python",
   "pygments_lexer": "ipython3",
   "version": "3.10.6"
  }
 },
 "nbformat": 4,
 "nbformat_minor": 5
}
